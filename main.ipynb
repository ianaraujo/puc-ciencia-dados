{
 "cells": [
  {
   "cell_type": "markdown",
   "metadata": {},
   "source": [
    "## Predição de Fraudes \"Card Not Present\" (IEEE-CIS Dataset)"
   ]
  },
  {
   "cell_type": "markdown",
   "metadata": {},
   "source": [
    "O problema escolhido para realização do projeto foi de fraudes em transações sem cartão presencial, conhecidas como **\"Card Not Present Fraud\"**. Os dados foram preparados e disponibilizados pela IEEE Computational Intelligence Society e lançados durante uma competição [IEEE-CIS Fraud Detection](https://www.kaggle.com/competitions/ieee-fraud-detection/overview) no Kaggle.\n",
    "\n",
    "O que torna esse projeto mais interessante é que os dados são de **transações reais** foram fornecidos pela [Vesta Corporation](https://vesta.io/). A Vesta é uma empresa especializada em soluções de proteção contra fraudes e processamento de pagamentos para transações móveis e online. A empresa utiliza modelos avançados de *machine learning* para analisar mais de US$ 4 bilhões em transações anualmente, fornecendo serviços que permitem a aprovação de vendas em milissegundos e o processamento de pagamentos em mais de 40 países.\n",
    "\n",
    "O conjunto de dados possui cerca de 600.000 registros e contém mais de 430 características. Portanto, além do desafio de modelagem para predição de fraudes, é preciso considerar o grande volume de dados e a alta dimensionalidade. Por serem transações reais, um grande número de *features* foram anonimizadas, garantindo a privacidade dos clientes, portanto, não é possível saber qual o conteúdo real de todas as variáveis."
   ]
  },
  {
   "cell_type": "markdown",
   "metadata": {},
   "source": [
    "### Definição do problema"
   ]
  },
  {
   "cell_type": "markdown",
   "metadata": {},
   "source": [
    "Imagine a seguinte situação. Você compra um café da manhã na padaria e se dirige ao caixa para pagar. Como é muito comum nos tempos atuais, você utiliza seu telefone para pagar, usando um cartão digital por aproximação, mas sua compra é negada. Ou você decide aproveitar as promoções de fim de ano em determinada plataforma de e-commerce, preenche as informações do seu cartão, mas sua compra não pode ser efetuada.\n",
    "\n",
    "Embora você tenha certeza que possui dinheiro suficiente para realizar a compra, por algum motivo sua transação não é efetuada. Isso acontece por que, todos os anos, mais de 30 bilhões de dólares são movimentados em transações fraudulentas de cartões de crédito e as empresas envolvidas nesses serviços, como bancos, instituições de pagamento e prestadoras de serviço, investem pesado em **sistemas de prevenção de fraude**. Apesar de nem sempre serem acertivos, como no caso descrito acima quando houve uma falso positivo, esses sistema podem evitar uma grande dor de cabeça para os clientes e para essas instituições.\n",
    "\n",
    "A fraude em transações \"Card Not Present\" (CNP) ocorre quando compras são realizadas sem a presença física do cartão. Com o avanço da tecnologia e a popularização das compras pela internet, esse tipo de transação tornou-se predominante. No Brasil, por exemplo, 61% dos consumidores preferem comprar online em vez de em lojas físicas, e 78% realizam pelo menos uma compra mensal pela internet. Nessas compras, os consumidores inserem os dados do cartão, como número, data de validade e código de segurança, ou utilizam carteiras digitais em dispositivos móveis, facilitando as transações, mas também aumentando os riscos de fraude.\n",
    "\n",
    "Considerando esse cenário, o objetivo do trabalho é criar um **modelo de classificação** capaz de estimar a probabilidade das trações serem verdadeiras ou fraudes. Em paralelo, também discutir conceitos importantes desse tipo de problema, como classes desbalanceadas, redução de dimensionalidade e uso adequado de métricas."
   ]
  },
  {
   "cell_type": "code",
   "execution_count": 60,
   "metadata": {},
   "outputs": [],
   "source": [
    "import pandas as pd\n",
    "import numpy as np\n",
    "import seaborn as sns\n",
    "import matplotlib.pyplot as plt\n",
    "from datetime import datetime, timedelta\n",
    "\n",
    "# sklearn utils\n",
    "from sklearn.pipeline import Pipeline\n",
    "from sklearn.compose import ColumnTransformer\n",
    "from sklearn.impute import SimpleImputer\n",
    "from sklearn.preprocessing import StandardScaler, OrdinalEncoder, FunctionTransformer\n",
    "from sklearn.decomposition import PCA\n",
    "from sklearn.model_selection import cross_val_score, cross_val_predict, train_test_split, StratifiedKFold, GridSearchCV\n",
    "from sklearn.metrics import confusion_matrix, precision_recall_curve, roc_auc_score, precision_score, average_precision_score, recall_score, f1_score\n",
    "\n",
    "# sklearn models\n",
    "from sklearn.tree import DecisionTreeClassifier\n",
    "from sklearn.ensemble import RandomForestClassifier\n",
    "from sklearn.ensemble import BaggingClassifier\n",
    "\n",
    "# other ml tools\n",
    "from lightgbm import LGBMClassifier\n",
    "from imblearn.ensemble import RUSBoostClassifier\n",
    "from imblearn.under_sampling import RandomUnderSampler\n",
    "from imblearn.over_sampling import SMOTE"
   ]
  },
  {
   "cell_type": "markdown",
   "metadata": {},
   "source": [
    "### Análise Exploratória de Dados"
   ]
  },
  {
   "cell_type": "markdown",
   "metadata": {},
   "source": [
    "Como discutido, neste problema vamos criar um classificador para prever a probabilidade de uma transação ser fraudulenta, indicada pelo alvo binário `isFraud`. Os dados de treinamento do Kaggle estão divididos em dois arquivos, `train_identity.csv` e `train_transaction.csv`, que são unidos pela chave `TransactionID`.\n",
    "\n",
    "Por ser uma competição, o Kaggle não permite baixar os arquivos sem fazer login, por isso, não foi possível ler os dados através da URL. Foi necessário baixar os arquivos, que podem ser encontrados na pasta `/data` e ler localmente. "
   ]
  },
  {
   "cell_type": "markdown",
   "metadata": {},
   "source": [
    "#### Identity"
   ]
  },
  {
   "cell_type": "code",
   "execution_count": 3,
   "metadata": {},
   "outputs": [
    {
     "data": {
      "text/plain": [
       "(144233, 41)"
      ]
     },
     "execution_count": 3,
     "metadata": {},
     "output_type": "execute_result"
    }
   ],
   "source": [
    "train_identity = pd.read_csv('data/train_identity.csv')\n",
    "train_identity.shape"
   ]
  },
  {
   "cell_type": "code",
   "execution_count": 4,
   "metadata": {},
   "outputs": [
    {
     "data": {
      "text/html": [
       "<div>\n",
       "<style scoped>\n",
       "    .dataframe tbody tr th:only-of-type {\n",
       "        vertical-align: middle;\n",
       "    }\n",
       "\n",
       "    .dataframe tbody tr th {\n",
       "        vertical-align: top;\n",
       "    }\n",
       "\n",
       "    .dataframe thead th {\n",
       "        text-align: right;\n",
       "    }\n",
       "</style>\n",
       "<table border=\"1\" class=\"dataframe\">\n",
       "  <thead>\n",
       "    <tr style=\"text-align: right;\">\n",
       "      <th></th>\n",
       "      <th>TransactionID</th>\n",
       "      <th>id_01</th>\n",
       "      <th>id_02</th>\n",
       "      <th>id_03</th>\n",
       "      <th>id_04</th>\n",
       "      <th>id_05</th>\n",
       "      <th>id_06</th>\n",
       "      <th>id_07</th>\n",
       "      <th>id_08</th>\n",
       "      <th>id_09</th>\n",
       "      <th>...</th>\n",
       "      <th>id_31</th>\n",
       "      <th>id_32</th>\n",
       "      <th>id_33</th>\n",
       "      <th>id_34</th>\n",
       "      <th>id_35</th>\n",
       "      <th>id_36</th>\n",
       "      <th>id_37</th>\n",
       "      <th>id_38</th>\n",
       "      <th>DeviceType</th>\n",
       "      <th>DeviceInfo</th>\n",
       "    </tr>\n",
       "  </thead>\n",
       "  <tbody>\n",
       "    <tr>\n",
       "      <th>0</th>\n",
       "      <td>2987004</td>\n",
       "      <td>0.0</td>\n",
       "      <td>70787.0</td>\n",
       "      <td>NaN</td>\n",
       "      <td>NaN</td>\n",
       "      <td>NaN</td>\n",
       "      <td>NaN</td>\n",
       "      <td>NaN</td>\n",
       "      <td>NaN</td>\n",
       "      <td>NaN</td>\n",
       "      <td>...</td>\n",
       "      <td>samsung browser 6.2</td>\n",
       "      <td>32.0</td>\n",
       "      <td>2220x1080</td>\n",
       "      <td>match_status:2</td>\n",
       "      <td>T</td>\n",
       "      <td>F</td>\n",
       "      <td>T</td>\n",
       "      <td>T</td>\n",
       "      <td>mobile</td>\n",
       "      <td>SAMSUNG SM-G892A Build/NRD90M</td>\n",
       "    </tr>\n",
       "    <tr>\n",
       "      <th>1</th>\n",
       "      <td>2987008</td>\n",
       "      <td>-5.0</td>\n",
       "      <td>98945.0</td>\n",
       "      <td>NaN</td>\n",
       "      <td>NaN</td>\n",
       "      <td>0.0</td>\n",
       "      <td>-5.0</td>\n",
       "      <td>NaN</td>\n",
       "      <td>NaN</td>\n",
       "      <td>NaN</td>\n",
       "      <td>...</td>\n",
       "      <td>mobile safari 11.0</td>\n",
       "      <td>32.0</td>\n",
       "      <td>1334x750</td>\n",
       "      <td>match_status:1</td>\n",
       "      <td>T</td>\n",
       "      <td>F</td>\n",
       "      <td>F</td>\n",
       "      <td>T</td>\n",
       "      <td>mobile</td>\n",
       "      <td>iOS Device</td>\n",
       "    </tr>\n",
       "    <tr>\n",
       "      <th>2</th>\n",
       "      <td>2987010</td>\n",
       "      <td>-5.0</td>\n",
       "      <td>191631.0</td>\n",
       "      <td>0.0</td>\n",
       "      <td>0.0</td>\n",
       "      <td>0.0</td>\n",
       "      <td>0.0</td>\n",
       "      <td>NaN</td>\n",
       "      <td>NaN</td>\n",
       "      <td>0.0</td>\n",
       "      <td>...</td>\n",
       "      <td>chrome 62.0</td>\n",
       "      <td>NaN</td>\n",
       "      <td>NaN</td>\n",
       "      <td>NaN</td>\n",
       "      <td>F</td>\n",
       "      <td>F</td>\n",
       "      <td>T</td>\n",
       "      <td>T</td>\n",
       "      <td>desktop</td>\n",
       "      <td>Windows</td>\n",
       "    </tr>\n",
       "    <tr>\n",
       "      <th>3</th>\n",
       "      <td>2987011</td>\n",
       "      <td>-5.0</td>\n",
       "      <td>221832.0</td>\n",
       "      <td>NaN</td>\n",
       "      <td>NaN</td>\n",
       "      <td>0.0</td>\n",
       "      <td>-6.0</td>\n",
       "      <td>NaN</td>\n",
       "      <td>NaN</td>\n",
       "      <td>NaN</td>\n",
       "      <td>...</td>\n",
       "      <td>chrome 62.0</td>\n",
       "      <td>NaN</td>\n",
       "      <td>NaN</td>\n",
       "      <td>NaN</td>\n",
       "      <td>F</td>\n",
       "      <td>F</td>\n",
       "      <td>T</td>\n",
       "      <td>T</td>\n",
       "      <td>desktop</td>\n",
       "      <td>NaN</td>\n",
       "    </tr>\n",
       "    <tr>\n",
       "      <th>4</th>\n",
       "      <td>2987016</td>\n",
       "      <td>0.0</td>\n",
       "      <td>7460.0</td>\n",
       "      <td>0.0</td>\n",
       "      <td>0.0</td>\n",
       "      <td>1.0</td>\n",
       "      <td>0.0</td>\n",
       "      <td>NaN</td>\n",
       "      <td>NaN</td>\n",
       "      <td>0.0</td>\n",
       "      <td>...</td>\n",
       "      <td>chrome 62.0</td>\n",
       "      <td>24.0</td>\n",
       "      <td>1280x800</td>\n",
       "      <td>match_status:2</td>\n",
       "      <td>T</td>\n",
       "      <td>F</td>\n",
       "      <td>T</td>\n",
       "      <td>T</td>\n",
       "      <td>desktop</td>\n",
       "      <td>MacOS</td>\n",
       "    </tr>\n",
       "  </tbody>\n",
       "</table>\n",
       "<p>5 rows × 41 columns</p>\n",
       "</div>"
      ],
      "text/plain": [
       "   TransactionID  id_01     id_02  id_03  id_04  id_05  id_06  id_07  id_08  \\\n",
       "0        2987004    0.0   70787.0    NaN    NaN    NaN    NaN    NaN    NaN   \n",
       "1        2987008   -5.0   98945.0    NaN    NaN    0.0   -5.0    NaN    NaN   \n",
       "2        2987010   -5.0  191631.0    0.0    0.0    0.0    0.0    NaN    NaN   \n",
       "3        2987011   -5.0  221832.0    NaN    NaN    0.0   -6.0    NaN    NaN   \n",
       "4        2987016    0.0    7460.0    0.0    0.0    1.0    0.0    NaN    NaN   \n",
       "\n",
       "   id_09  ...                id_31  id_32      id_33           id_34  id_35  \\\n",
       "0    NaN  ...  samsung browser 6.2   32.0  2220x1080  match_status:2      T   \n",
       "1    NaN  ...   mobile safari 11.0   32.0   1334x750  match_status:1      T   \n",
       "2    0.0  ...          chrome 62.0    NaN        NaN             NaN      F   \n",
       "3    NaN  ...          chrome 62.0    NaN        NaN             NaN      F   \n",
       "4    0.0  ...          chrome 62.0   24.0   1280x800  match_status:2      T   \n",
       "\n",
       "  id_36 id_37  id_38  DeviceType                     DeviceInfo  \n",
       "0     F     T      T      mobile  SAMSUNG SM-G892A Build/NRD90M  \n",
       "1     F     F      T      mobile                     iOS Device  \n",
       "2     F     T      T     desktop                        Windows  \n",
       "3     F     T      T     desktop                            NaN  \n",
       "4     F     T      T     desktop                          MacOS  \n",
       "\n",
       "[5 rows x 41 columns]"
      ]
     },
     "execution_count": 4,
     "metadata": {},
     "output_type": "execute_result"
    }
   ],
   "source": [
    "train_identity.head(5)"
   ]
  },
  {
   "cell_type": "code",
   "execution_count": 5,
   "metadata": {},
   "outputs": [],
   "source": [
    "identity_columns = train_identity.columns.difference(['TransactionID'])"
   ]
  },
  {
   "cell_type": "markdown",
   "metadata": {},
   "source": [
    "#### Transaction"
   ]
  },
  {
   "cell_type": "markdown",
   "metadata": {},
   "source": [
    "Por causa do grande volume de *features* nos dados de transações (394), vamos ler os dados em *chunks* ou blocos de 100.000 registros, o que otimiza a alocação de memória da máquina. Após concatenar os blocos em um único DataFrame, podemos deletar esses blocos para economizar recursos."
   ]
  },
  {
   "cell_type": "code",
   "execution_count": 6,
   "metadata": {},
   "outputs": [
    {
     "data": {
      "text/plain": [
       "(590540, 394)"
      ]
     },
     "execution_count": 6,
     "metadata": {},
     "output_type": "execute_result"
    }
   ],
   "source": [
    "transaction_chunks = pd.read_csv('data/train_transaction.csv', chunksize=10 ** 5)\n",
    "train_transaction = pd.concat(transaction_chunks)\n",
    "\n",
    "train_transaction.shape"
   ]
  },
  {
   "cell_type": "code",
   "execution_count": 7,
   "metadata": {},
   "outputs": [
    {
     "data": {
      "text/html": [
       "<div>\n",
       "<style scoped>\n",
       "    .dataframe tbody tr th:only-of-type {\n",
       "        vertical-align: middle;\n",
       "    }\n",
       "\n",
       "    .dataframe tbody tr th {\n",
       "        vertical-align: top;\n",
       "    }\n",
       "\n",
       "    .dataframe thead th {\n",
       "        text-align: right;\n",
       "    }\n",
       "</style>\n",
       "<table border=\"1\" class=\"dataframe\">\n",
       "  <thead>\n",
       "    <tr style=\"text-align: right;\">\n",
       "      <th></th>\n",
       "      <th>TransactionID</th>\n",
       "      <th>isFraud</th>\n",
       "      <th>TransactionDT</th>\n",
       "      <th>TransactionAmt</th>\n",
       "      <th>ProductCD</th>\n",
       "      <th>card1</th>\n",
       "      <th>card2</th>\n",
       "      <th>card3</th>\n",
       "      <th>card4</th>\n",
       "      <th>card5</th>\n",
       "      <th>...</th>\n",
       "      <th>V330</th>\n",
       "      <th>V331</th>\n",
       "      <th>V332</th>\n",
       "      <th>V333</th>\n",
       "      <th>V334</th>\n",
       "      <th>V335</th>\n",
       "      <th>V336</th>\n",
       "      <th>V337</th>\n",
       "      <th>V338</th>\n",
       "      <th>V339</th>\n",
       "    </tr>\n",
       "  </thead>\n",
       "  <tbody>\n",
       "    <tr>\n",
       "      <th>0</th>\n",
       "      <td>2987000</td>\n",
       "      <td>0</td>\n",
       "      <td>86400</td>\n",
       "      <td>68.5</td>\n",
       "      <td>W</td>\n",
       "      <td>13926</td>\n",
       "      <td>NaN</td>\n",
       "      <td>150.0</td>\n",
       "      <td>discover</td>\n",
       "      <td>142.0</td>\n",
       "      <td>...</td>\n",
       "      <td>NaN</td>\n",
       "      <td>NaN</td>\n",
       "      <td>NaN</td>\n",
       "      <td>NaN</td>\n",
       "      <td>NaN</td>\n",
       "      <td>NaN</td>\n",
       "      <td>NaN</td>\n",
       "      <td>NaN</td>\n",
       "      <td>NaN</td>\n",
       "      <td>NaN</td>\n",
       "    </tr>\n",
       "    <tr>\n",
       "      <th>1</th>\n",
       "      <td>2987001</td>\n",
       "      <td>0</td>\n",
       "      <td>86401</td>\n",
       "      <td>29.0</td>\n",
       "      <td>W</td>\n",
       "      <td>2755</td>\n",
       "      <td>404.0</td>\n",
       "      <td>150.0</td>\n",
       "      <td>mastercard</td>\n",
       "      <td>102.0</td>\n",
       "      <td>...</td>\n",
       "      <td>NaN</td>\n",
       "      <td>NaN</td>\n",
       "      <td>NaN</td>\n",
       "      <td>NaN</td>\n",
       "      <td>NaN</td>\n",
       "      <td>NaN</td>\n",
       "      <td>NaN</td>\n",
       "      <td>NaN</td>\n",
       "      <td>NaN</td>\n",
       "      <td>NaN</td>\n",
       "    </tr>\n",
       "    <tr>\n",
       "      <th>2</th>\n",
       "      <td>2987002</td>\n",
       "      <td>0</td>\n",
       "      <td>86469</td>\n",
       "      <td>59.0</td>\n",
       "      <td>W</td>\n",
       "      <td>4663</td>\n",
       "      <td>490.0</td>\n",
       "      <td>150.0</td>\n",
       "      <td>visa</td>\n",
       "      <td>166.0</td>\n",
       "      <td>...</td>\n",
       "      <td>NaN</td>\n",
       "      <td>NaN</td>\n",
       "      <td>NaN</td>\n",
       "      <td>NaN</td>\n",
       "      <td>NaN</td>\n",
       "      <td>NaN</td>\n",
       "      <td>NaN</td>\n",
       "      <td>NaN</td>\n",
       "      <td>NaN</td>\n",
       "      <td>NaN</td>\n",
       "    </tr>\n",
       "    <tr>\n",
       "      <th>3</th>\n",
       "      <td>2987003</td>\n",
       "      <td>0</td>\n",
       "      <td>86499</td>\n",
       "      <td>50.0</td>\n",
       "      <td>W</td>\n",
       "      <td>18132</td>\n",
       "      <td>567.0</td>\n",
       "      <td>150.0</td>\n",
       "      <td>mastercard</td>\n",
       "      <td>117.0</td>\n",
       "      <td>...</td>\n",
       "      <td>NaN</td>\n",
       "      <td>NaN</td>\n",
       "      <td>NaN</td>\n",
       "      <td>NaN</td>\n",
       "      <td>NaN</td>\n",
       "      <td>NaN</td>\n",
       "      <td>NaN</td>\n",
       "      <td>NaN</td>\n",
       "      <td>NaN</td>\n",
       "      <td>NaN</td>\n",
       "    </tr>\n",
       "    <tr>\n",
       "      <th>4</th>\n",
       "      <td>2987004</td>\n",
       "      <td>0</td>\n",
       "      <td>86506</td>\n",
       "      <td>50.0</td>\n",
       "      <td>H</td>\n",
       "      <td>4497</td>\n",
       "      <td>514.0</td>\n",
       "      <td>150.0</td>\n",
       "      <td>mastercard</td>\n",
       "      <td>102.0</td>\n",
       "      <td>...</td>\n",
       "      <td>0.0</td>\n",
       "      <td>0.0</td>\n",
       "      <td>0.0</td>\n",
       "      <td>0.0</td>\n",
       "      <td>0.0</td>\n",
       "      <td>0.0</td>\n",
       "      <td>0.0</td>\n",
       "      <td>0.0</td>\n",
       "      <td>0.0</td>\n",
       "      <td>0.0</td>\n",
       "    </tr>\n",
       "  </tbody>\n",
       "</table>\n",
       "<p>5 rows × 394 columns</p>\n",
       "</div>"
      ],
      "text/plain": [
       "   TransactionID  isFraud  TransactionDT  TransactionAmt ProductCD  card1  \\\n",
       "0        2987000        0          86400            68.5         W  13926   \n",
       "1        2987001        0          86401            29.0         W   2755   \n",
       "2        2987002        0          86469            59.0         W   4663   \n",
       "3        2987003        0          86499            50.0         W  18132   \n",
       "4        2987004        0          86506            50.0         H   4497   \n",
       "\n",
       "   card2  card3       card4  card5  ... V330  V331  V332  V333  V334 V335  \\\n",
       "0    NaN  150.0    discover  142.0  ...  NaN   NaN   NaN   NaN   NaN  NaN   \n",
       "1  404.0  150.0  mastercard  102.0  ...  NaN   NaN   NaN   NaN   NaN  NaN   \n",
       "2  490.0  150.0        visa  166.0  ...  NaN   NaN   NaN   NaN   NaN  NaN   \n",
       "3  567.0  150.0  mastercard  117.0  ...  NaN   NaN   NaN   NaN   NaN  NaN   \n",
       "4  514.0  150.0  mastercard  102.0  ...  0.0   0.0   0.0   0.0   0.0  0.0   \n",
       "\n",
       "  V336  V337  V338  V339  \n",
       "0  NaN   NaN   NaN   NaN  \n",
       "1  NaN   NaN   NaN   NaN  \n",
       "2  NaN   NaN   NaN   NaN  \n",
       "3  NaN   NaN   NaN   NaN  \n",
       "4  0.0   0.0   0.0   0.0  \n",
       "\n",
       "[5 rows x 394 columns]"
      ]
     },
     "execution_count": 7,
     "metadata": {},
     "output_type": "execute_result"
    }
   ],
   "source": [
    "train_transaction.head(5)"
   ]
  },
  {
   "cell_type": "code",
   "execution_count": 8,
   "metadata": {},
   "outputs": [],
   "source": [
    "del transaction_chunks"
   ]
  },
  {
   "cell_type": "code",
   "execution_count": 9,
   "metadata": {},
   "outputs": [
    {
     "name": "stdout",
     "output_type": "stream",
     "text": [
      "24.42% dos registros em \"Transaction\" (590540) possuem registros de \"Identity\" associados.\n"
     ]
    }
   ],
   "source": [
    "associated = np.sum(train_transaction['TransactionID'].isin(train_identity['TransactionID'].unique()))\n",
    "total_transaction = train_transaction.shape[0]\n",
    "\n",
    "pct_records = np.divide(associated, total_transaction) * 100\n",
    "\n",
    "print(f'{pct_records:.2f}% dos registros em \"Transaction\" ({total_transaction}) possuem registros de \"Identity\" associados.')"
   ]
  },
  {
   "cell_type": "markdown",
   "metadata": {},
   "source": [
    "#### isFraud"
   ]
  },
  {
   "cell_type": "markdown",
   "metadata": {},
   "source": [
    "Em alguns casos específicos de modelagem preditiva, lidamos com um problema conhecido como “classes desbalanceadas”. Isso acontece quando queremos classificar determinado exemplo, seja em tarefas binárias ou de múltiplas classes, mas os dados de treinamento específicos não apresentam uma distribuição equilibrada dessas classes. Vamo verificar se esse é o caso em nosso conjunto de dados:"
   ]
  },
  {
   "cell_type": "code",
   "execution_count": 10,
   "metadata": {},
   "outputs": [
    {
     "data": {
      "text/plain": [
       "isFraud\n",
       "0    96.5\n",
       "1     3.5\n",
       "Name: proportion, dtype: float64"
      ]
     },
     "execution_count": 10,
     "metadata": {},
     "output_type": "execute_result"
    }
   ],
   "source": [
    "train_transaction['isFraud'].value_counts(normalize=True).round(4) * 100"
   ]
  },
  {
   "cell_type": "markdown",
   "metadata": {},
   "source": [
    "Em problemas de detecção de fraudes, assim como predição de CHURN ou doenças raras, o fenômeno que queremos prever, geralmente, é subrepresentado nos dados de treino. Como podemos ver, isso aconte em nosso conjunto de dados, uma vez que apenas 3,5% do dados de treino são positivos para fraude.\n",
    "\n",
    "Quando há desbalanceamento de classes é necessário conhecer algumas técnicas para lidar com esse problemas de forma eficiente, que pode ser abordado pela via da reamostragem, buscando equilibrar as classes removendo exemplos da classe majoritária ou criando exemplos artificiais da classe minoritária. Outra abordagem é o uso correto de métricas de avaliação.\n",
    "\n",
    "A acurácia é uma métrica muito usada em problemas gerais, mas que não tem grande utilidade para esse problema específico. Imagine que o modelo aprenda a dizer que todas as transações são verdadeiras, a acurácia seria próxima de 97%, mas nosso modelo seria muito ruim. Métricas mais adequadas são a **precisão** e o **recall**, que juntas formam o **F1 score**.\n",
    "\n",
    "Essa métricas são calculadas apartir do número de falsos positivos ou falsos negativos e do verdadeiros positivos. Assim, podemos ajustar nosso modelo mais adequadamente para nosso objetivo alvo: minimizar falsos positivos (recall) ou minimizar falsos negativos (precisão). Vamos discutir essas técnicas mais profundamente ao longo do trabalho."
   ]
  },
  {
   "cell_type": "markdown",
   "metadata": {},
   "source": [
    "#### TransactionAmt"
   ]
  },
  {
   "cell_type": "code",
   "execution_count": 11,
   "metadata": {},
   "outputs": [
    {
     "data": {
      "image/png": "[encoded data removed]",
      "text/plain": [
       "<Figure size 1200x600 with 2 Axes>"
      ]
     },
     "metadata": {},
     "output_type": "display_data"
    }
   ],
   "source": [
    "fig, (ax1, ax2) = plt.subplots(ncols=2, figsize=(12, 6), sharey=False)\n",
    "\n",
    "ax1.set_title('Transaction Amounts <= 1000')\n",
    "ax2.set_title('Transaction Amounts (Log Scale)')\n",
    "\n",
    "sns.histplot(train_transaction.loc[train_transaction['TransactionAmt'] <= 1000], x='TransactionAmt', bins=100, ax=ax1)\n",
    "sns.histplot(train_transaction, x='TransactionAmt', bins=100, log_scale=True, ax=ax2)\n",
    "\n",
    "plt.tight_layout()\n",
    "plt.show()"
   ]
  },
  {
   "cell_type": "markdown",
   "metadata": {},
   "source": [
    "A análise dos valores de transações revela uma distribuição altamente concentrada em valores baixos, com a maioria das transações ocorrendo abaixo de 200. Essa característica aponta para um desbalanceamento nos dados, com uma pequena proporção de transações de valores significativamente altos. Em termos de modelagem de machine learning, isso implica na necessidade de estratégias específicas para lidar com a amplitude dos dados e a presença de outliers. Transformações, como o uso de escalas logarítmicas, podem ser úteis para estabilizar a variância e melhorar o desempenho de modelos sensíveis à escala. \n",
    "\n",
    "Além disso, a predominância de transações de baixo valor sugere que os modelos podem precisar de ajustes para evitar vieses que priorizem padrões comuns e negligenciem a detecção de eventos raros, como fraudes em transações de valores elevados. Avaliar o impacto dessas transações menos frequentes será crucial para garantir que o modelo seja robusto e eficaz em diferentes cenários."
   ]
  },
  {
   "cell_type": "code",
   "execution_count": 12,
   "metadata": {},
   "outputs": [
    {
     "data": {
      "image/png": "[encoded data removed]",
      "text/plain": [
       "<Figure size 640x480 with 2 Axes>"
      ]
     },
     "metadata": {},
     "output_type": "display_data"
    }
   ],
   "source": [
    "fig, (ax1, ax2) = plt.subplots(nrows=2, sharex=True)\n",
    "ax1.set_title('isFraud = 0')\n",
    "ax2.set_title('isFraud = 1')\n",
    "\n",
    "sns.histplot(train_transaction.loc[train_transaction['isFraud'] == 0], x='TransactionAmt', color='tab:green', bins=100, log_scale=True, ax=ax1)\n",
    "sns.histplot(train_transaction.loc[train_transaction['isFraud'] == 1], x='TransactionAmt', color='tab:red', bins=100, log_scale=True, ax=ax2)\n",
    "\n",
    "plt.tight_layout()\n",
    "plt.show()"
   ]
  },
  {
   "cell_type": "code",
   "execution_count": 13,
   "metadata": {},
   "outputs": [
    {
     "name": "stdout",
     "output_type": "stream",
     "text": [
      "Valor médio por transações isFraud == 1 é 149.24\n",
      "Valor médio por transações isFraud == 0 é 134.51\n"
     ]
    }
   ],
   "source": [
    "fraud = train_transaction['isFraud'] == 1\n",
    "\n",
    "mean_fraud = np.mean(train_transaction.loc[fraud, 'TransactionAmt'])\n",
    "mean_not_fraud = np.mean(train_transaction.loc[~fraud, 'TransactionAmt'])\n",
    "\n",
    "print(f\"Valor médio por transações isFraud == 1 é {mean_fraud:.2f}\")\n",
    "print(f\"Valor médio por transações isFraud == 0 é {mean_not_fraud:.2f}\")"
   ]
  },
  {
   "cell_type": "markdown",
   "metadata": {},
   "source": [
    "A análise dos dados revela que transações fraudulentas possuem, em média, valores ligeiramente superiores às transações não fraudulentas (149,24 contra 134,51). No entanto, essa diferença de médias é relativamente pequena, e as distribuições de valores para ambos os casos mostram uma sobreposição significativa. Isso indica que o valor da transação, isoladamente, não é um bom discriminador para identificar fraudes.\n",
    "\n",
    "Apesar disso, o valor da transação pode ser uma variável útil quando combinado com outros fatores, já que existe uma leve tendência de fraudes ocorrerem em transações com valores mais elevados. Para maximizar sua utilidade em um modelo de machine learning, seria interessante explorar interações com outras variáveis, realizar transformações como escalas logarítmicas e investigar a influência de outliers."
   ]
  },
  {
   "cell_type": "markdown",
   "metadata": {},
   "source": [
    "#### Card Issuer"
   ]
  },
  {
   "cell_type": "code",
   "execution_count": 14,
   "metadata": {},
   "outputs": [
    {
     "data": {
      "text/plain": [
       "card4\n",
       "visa                384767\n",
       "mastercard          189217\n",
       "american express      8328\n",
       "discover              6651\n",
       "NaN                   1577\n",
       "Name: count, dtype: int64"
      ]
     },
     "execution_count": 14,
     "metadata": {},
     "output_type": "execute_result"
    }
   ],
   "source": [
    "train_transaction['card4'].value_counts(dropna=False)"
   ]
  },
  {
   "cell_type": "code",
   "execution_count": 15,
   "metadata": {},
   "outputs": [
    {
     "data": {
      "text/html": [
       "<div>\n",
       "<style scoped>\n",
       "    .dataframe tbody tr th:only-of-type {\n",
       "        vertical-align: middle;\n",
       "    }\n",
       "\n",
       "    .dataframe tbody tr th {\n",
       "        vertical-align: top;\n",
       "    }\n",
       "\n",
       "    .dataframe thead th {\n",
       "        text-align: right;\n",
       "    }\n",
       "</style>\n",
       "<table border=\"1\" class=\"dataframe\">\n",
       "  <thead>\n",
       "    <tr style=\"text-align: right;\">\n",
       "      <th>card4</th>\n",
       "      <th>american express</th>\n",
       "      <th>discover</th>\n",
       "      <th>mastercard</th>\n",
       "      <th>visa</th>\n",
       "    </tr>\n",
       "  </thead>\n",
       "  <tbody>\n",
       "    <tr>\n",
       "      <th>0</th>\n",
       "      <td>97.030419</td>\n",
       "      <td>89.702981</td>\n",
       "      <td>96.583877</td>\n",
       "      <td>96.100993</td>\n",
       "    </tr>\n",
       "    <tr>\n",
       "      <th>1</th>\n",
       "      <td>2.969581</td>\n",
       "      <td>10.297019</td>\n",
       "      <td>3.416123</td>\n",
       "      <td>3.899007</td>\n",
       "    </tr>\n",
       "  </tbody>\n",
       "</table>\n",
       "</div>"
      ],
      "text/plain": [
       "card4  american express   discover  mastercard       visa\n",
       "0             97.030419  89.702981   96.583877  96.100993\n",
       "1              2.969581  10.297019    3.416123   3.899007"
      ]
     },
     "execution_count": 15,
     "metadata": {},
     "output_type": "execute_result"
    }
   ],
   "source": [
    "pct_card_fraud = train_transaction.groupby(['card4', 'isFraud'])['TransactionAmt'].sum() / train_transaction.groupby(['card4'])['TransactionAmt'].sum()\n",
    "pct_card_fraud = (pct_card_fraud * 100).unstack(level=0).reset_index(drop=True)\n",
    "\n",
    "pct_card_fraud"
   ]
  },
  {
   "cell_type": "markdown",
   "metadata": {},
   "source": [
    "#### Transaction Type"
   ]
  },
  {
   "cell_type": "code",
   "execution_count": 16,
   "metadata": {},
   "outputs": [
    {
     "data": {
      "text/plain": [
       "card6\n",
       "debit              439938\n",
       "credit             148986\n",
       "NaN                  1571\n",
       "debit or credit        30\n",
       "charge card            15\n",
       "Name: count, dtype: int64"
      ]
     },
     "execution_count": 16,
     "metadata": {},
     "output_type": "execute_result"
    }
   ],
   "source": [
    "train_transaction['card6'].value_counts(dropna=False)"
   ]
  },
  {
   "cell_type": "markdown",
   "metadata": {},
   "source": [
    "#### DeviceType"
   ]
  },
  {
   "cell_type": "code",
   "execution_count": 17,
   "metadata": {},
   "outputs": [
    {
     "data": {
      "text/plain": [
       "array(['SAMSUNG SM-G892A Build/NRD90M', 'iOS Device', 'Windows', ...,\n",
       "       'LDN-LX3 Build/HUAWEILDN-LX3', 'Z955A', 'LG-E975'], dtype=object)"
      ]
     },
     "execution_count": 17,
     "metadata": {},
     "output_type": "execute_result"
    }
   ],
   "source": [
    "train_identity['DeviceInfo'].unique()"
   ]
  },
  {
   "cell_type": "code",
   "execution_count": 18,
   "metadata": {},
   "outputs": [
    {
     "data": {
      "text/plain": [
       "DeviceType\n",
       "desktop    85165\n",
       "mobile     55645\n",
       "NaN         3423\n",
       "Name: count, dtype: int64"
      ]
     },
     "execution_count": 18,
     "metadata": {},
     "output_type": "execute_result"
    }
   ],
   "source": [
    "train_identity['DeviceType'].value_counts(dropna=False)"
   ]
  },
  {
   "cell_type": "markdown",
   "metadata": {},
   "source": [
    "#### E-mail Domain"
   ]
  },
  {
   "cell_type": "code",
   "execution_count": 19,
   "metadata": {},
   "outputs": [
    {
     "data": {
      "text/plain": [
       "R_emaildomain\n",
       "NaN                453249\n",
       "gmail.com           57147\n",
       "hotmail.com         27509\n",
       "anonymous.com       20529\n",
       "yahoo.com           11842\n",
       "                    ...  \n",
       "frontiernet.net        14\n",
       "netzero.com            14\n",
       "centurylink.net        12\n",
       "netzero.net             9\n",
       "sc.rr.com               8\n",
       "Name: count, Length: 61, dtype: int64"
      ]
     },
     "execution_count": 19,
     "metadata": {},
     "output_type": "execute_result"
    }
   ],
   "source": [
    "train_transaction['R_emaildomain'].value_counts(dropna=False)"
   ]
  },
  {
   "cell_type": "code",
   "execution_count": 20,
   "metadata": {},
   "outputs": [
    {
     "data": {
      "text/html": [
       "<div>\n",
       "<style scoped>\n",
       "    .dataframe tbody tr th:only-of-type {\n",
       "        vertical-align: middle;\n",
       "    }\n",
       "\n",
       "    .dataframe tbody tr th {\n",
       "        vertical-align: top;\n",
       "    }\n",
       "\n",
       "    .dataframe thead th {\n",
       "        text-align: right;\n",
       "    }\n",
       "</style>\n",
       "<table border=\"1\" class=\"dataframe\">\n",
       "  <thead>\n",
       "    <tr style=\"text-align: right;\">\n",
       "      <th>isFraud</th>\n",
       "      <th>0</th>\n",
       "      <th>1</th>\n",
       "    </tr>\n",
       "    <tr>\n",
       "      <th>R_emaildomain</th>\n",
       "      <th></th>\n",
       "      <th></th>\n",
       "    </tr>\n",
       "  </thead>\n",
       "  <tbody>\n",
       "    <tr>\n",
       "      <th>protonmail.com</th>\n",
       "      <td>2.402264</td>\n",
       "      <td>97.597736</td>\n",
       "    </tr>\n",
       "    <tr>\n",
       "      <th>mail.com</th>\n",
       "      <td>48.574506</td>\n",
       "      <td>51.425494</td>\n",
       "    </tr>\n",
       "    <tr>\n",
       "      <th>netzero.net</th>\n",
       "      <td>55.645161</td>\n",
       "      <td>44.354839</td>\n",
       "    </tr>\n",
       "    <tr>\n",
       "      <th>icloud.com</th>\n",
       "      <td>78.613555</td>\n",
       "      <td>21.386445</td>\n",
       "    </tr>\n",
       "    <tr>\n",
       "      <th>outlook.com</th>\n",
       "      <td>80.013195</td>\n",
       "      <td>19.986805</td>\n",
       "    </tr>\n",
       "    <tr>\n",
       "      <th>outlook.es</th>\n",
       "      <td>84.345394</td>\n",
       "      <td>15.654606</td>\n",
       "    </tr>\n",
       "    <tr>\n",
       "      <th>gmail.com</th>\n",
       "      <td>84.677812</td>\n",
       "      <td>15.322188</td>\n",
       "    </tr>\n",
       "    <tr>\n",
       "      <th>earthlink.net</th>\n",
       "      <td>85.056705</td>\n",
       "      <td>14.943295</td>\n",
       "    </tr>\n",
       "    <tr>\n",
       "      <th>live.com.mx</th>\n",
       "      <td>90.093109</td>\n",
       "      <td>9.906891</td>\n",
       "    </tr>\n",
       "    <tr>\n",
       "      <th>aim.com</th>\n",
       "      <td>90.989978</td>\n",
       "      <td>9.010022</td>\n",
       "    </tr>\n",
       "  </tbody>\n",
       "</table>\n",
       "</div>"
      ],
      "text/plain": [
       "isFraud                 0          1\n",
       "R_emaildomain                       \n",
       "protonmail.com   2.402264  97.597736\n",
       "mail.com        48.574506  51.425494\n",
       "netzero.net     55.645161  44.354839\n",
       "icloud.com      78.613555  21.386445\n",
       "outlook.com     80.013195  19.986805\n",
       "outlook.es      84.345394  15.654606\n",
       "gmail.com       84.677812  15.322188\n",
       "earthlink.net   85.056705  14.943295\n",
       "live.com.mx     90.093109   9.906891\n",
       "aim.com         90.989978   9.010022"
      ]
     },
     "execution_count": 20,
     "metadata": {},
     "output_type": "execute_result"
    }
   ],
   "source": [
    "pct_email_fraud = train_transaction.groupby(['R_emaildomain', 'isFraud'])['TransactionAmt'].sum() / train_transaction.groupby(['R_emaildomain'])['TransactionAmt'].sum()\n",
    "pct_email_fraud = (pct_email_fraud * 100).unstack('isFraud').dropna()\n",
    "\n",
    "pct_email_fraud.sort_values(by=1, ascending=False).head(10)"
   ]
  },
  {
   "cell_type": "markdown",
   "metadata": {},
   "source": [
    "### Análise de Componentes Principais (PCA)"
   ]
  },
  {
   "cell_type": "code",
   "execution_count": 21,
   "metadata": {},
   "outputs": [
    {
     "data": {
      "text/plain": [
       "(59054, 434)"
      ]
     },
     "execution_count": 21,
     "metadata": {},
     "output_type": "execute_result"
    }
   ],
   "source": [
    "merged_chunks = []\n",
    "transaction_chunks = pd.read_csv('data/train_transaction.csv', chunksize=10 ** 5)\n",
    "\n",
    "for chunk in transaction_chunks:\n",
    "    new_chunk = chunk.merge(train_identity, on='TransactionID', how='left')\n",
    "    merged_chunks.append(new_chunk)\n",
    "\n",
    "train = pd.concat(merged_chunks)\n",
    "train = train.groupby('isFraud', group_keys=False)[train.columns].apply(lambda x: x.sample(frac=0.1))\n",
    "\n",
    "train.shape"
   ]
  },
  {
   "cell_type": "code",
   "execution_count": 22,
   "metadata": {},
   "outputs": [],
   "source": [
    "del train_identity, transaction_chunks"
   ]
  },
  {
   "cell_type": "code",
   "execution_count": 23,
   "metadata": {},
   "outputs": [
    {
     "name": "stdout",
     "output_type": "stream",
     "text": [
      "Número de features escolhidas: 339\n"
     ]
    }
   ],
   "source": [
    "X_train = train.loc[:, train.columns.str.startswith('V')]\n",
    "\n",
    "print(f'Número de features escolhidas: {X_train.shape[1]}')"
   ]
  },
  {
   "cell_type": "code",
   "execution_count": 24,
   "metadata": {},
   "outputs": [],
   "source": [
    "numeric_transformer = Pipeline(steps=[\n",
    "    ('imputer', SimpleImputer(strategy='mean')),\n",
    "    ('scaler', StandardScaler())\n",
    "])\n",
    "\n",
    "X_train_transformed = numeric_transformer.fit_transform(X_train)"
   ]
  },
  {
   "cell_type": "code",
   "execution_count": null,
   "metadata": {},
   "outputs": [
    {
     "data": {
      "image/png": "[encoded data removed]",
      "text/plain": [
       "<Figure size 640x480 with 1 Axes>"
      ]
     },
     "metadata": {},
     "output_type": "display_data"
    }
   ],
   "source": [
    "pca = PCA(random_state=23)\n",
    "pca.fit(X_train_transformed)\n",
    "\n",
    "plt.plot(np.cumsum(pca.explained_variance_ratio_))\n",
    "plt.xlabel(\"n_components\")\n",
    "plt.ylabel(\"explained_variance_ratio\")\n",
    "\n",
    "plt.show()"
   ]
  },
  {
   "cell_type": "code",
   "execution_count": 31,
   "metadata": {},
   "outputs": [
    {
     "name": "stdout",
     "output_type": "stream",
     "text": [
      "Número de dimensões para manter 95.0% da variância: 90\n"
     ]
    }
   ],
   "source": [
    "target_variance_ratio = 0.95\n",
    "d = np.argmax(np.cumsum(pca.explained_variance_ratio_) >= target_variance_ratio) + 1\n",
    "\n",
    "print(f\"Número de dimensões para manter {target_variance_ratio*100}% da variância: {d}\")"
   ]
  },
  {
   "cell_type": "markdown",
   "metadata": {},
   "source": [
    "### Feature Engineering"
   ]
  },
  {
   "cell_type": "code",
   "execution_count": 32,
   "metadata": {},
   "outputs": [],
   "source": [
    "train['hasIdentity'] = (train[identity_columns].isna().all(axis=1) == False).astype(int)"
   ]
  },
  {
   "cell_type": "code",
   "execution_count": 33,
   "metadata": {},
   "outputs": [
    {
     "data": {
      "text/plain": [
       "hasIdentity\n",
       "0    0.757358\n",
       "1    0.242642\n",
       "Name: proportion, dtype: float64"
      ]
     },
     "execution_count": 33,
     "metadata": {},
     "output_type": "execute_result"
    }
   ],
   "source": [
    "train['hasIdentity'].value_counts(normalize=True)"
   ]
  },
  {
   "cell_type": "code",
   "execution_count": 34,
   "metadata": {},
   "outputs": [
    {
     "data": {
      "text/plain": [
       "card6\n",
       "debit     44115\n",
       "credit    14771\n",
       "NaN         168\n",
       "Name: count, dtype: int64"
      ]
     },
     "execution_count": 34,
     "metadata": {},
     "output_type": "execute_result"
    }
   ],
   "source": [
    "train.loc[~train['card6'].isin(['credit', 'debit']), 'card6'] = np.nan\n",
    "\n",
    "train['card6'].value_counts(dropna=False)"
   ]
  },
  {
   "cell_type": "code",
   "execution_count": 35,
   "metadata": {},
   "outputs": [],
   "source": [
    "amount = 'TransactionAmt'\n",
    "selected_cols = ['card1', 'card4', 'card6', 'P_emaildomain', 'R_emaildomain', 'addr1']\n",
    "\n",
    "for col in selected_cols:\n",
    "    train[f'amount_mean_{col}'] = train[amount] / train.groupby([col])[amount].transform('mean')\n",
    "    train[f'amount_std_{col}'] = train[amount] / train.groupby([col])[amount].transform('std')"
   ]
  },
  {
   "cell_type": "code",
   "execution_count": 37,
   "metadata": {},
   "outputs": [],
   "source": [
    "log_amount = 'TransactionAmtLog'\n",
    "train[log_amount] = np.log(train[amount])\n",
    "\n",
    "for col in selected_cols:\n",
    "    train[f'log_amount_mean_{col}'] = train[log_amount] / train.groupby([col])[log_amount].transform('mean')\n",
    "    train[f'log_amount_std_{col}'] = train[log_amount] / train.groupby([col])[log_amount].transform('std')"
   ]
  },
  {
   "cell_type": "code",
   "execution_count": 41,
   "metadata": {},
   "outputs": [
    {
     "data": {
      "text/html": [
       "<div>\n",
       "<style scoped>\n",
       "    .dataframe tbody tr th:only-of-type {\n",
       "        vertical-align: middle;\n",
       "    }\n",
       "\n",
       "    .dataframe tbody tr th {\n",
       "        vertical-align: top;\n",
       "    }\n",
       "\n",
       "    .dataframe thead th {\n",
       "        text-align: right;\n",
       "    }\n",
       "</style>\n",
       "<table border=\"1\" class=\"dataframe\">\n",
       "  <thead>\n",
       "    <tr style=\"text-align: right;\">\n",
       "      <th></th>\n",
       "      <th>amount_mean_card6</th>\n",
       "      <th>log_amount_mean_card6</th>\n",
       "    </tr>\n",
       "  </thead>\n",
       "  <tbody>\n",
       "    <tr>\n",
       "      <th>92687</th>\n",
       "      <td>0.532381</td>\n",
       "      <td>1.003691</td>\n",
       "    </tr>\n",
       "    <tr>\n",
       "      <th>87748</th>\n",
       "      <td>0.467158</td>\n",
       "      <td>0.929926</td>\n",
       "    </tr>\n",
       "    <tr>\n",
       "      <th>92913</th>\n",
       "      <td>0.510887</td>\n",
       "      <td>0.950790</td>\n",
       "    </tr>\n",
       "    <tr>\n",
       "      <th>56197</th>\n",
       "      <td>0.471141</td>\n",
       "      <td>0.931905</td>\n",
       "    </tr>\n",
       "    <tr>\n",
       "      <th>30043</th>\n",
       "      <td>0.220608</td>\n",
       "      <td>0.811684</td>\n",
       "    </tr>\n",
       "    <tr>\n",
       "      <th>...</th>\n",
       "      <td>...</td>\n",
       "      <td>...</td>\n",
       "    </tr>\n",
       "    <tr>\n",
       "      <th>52656</th>\n",
       "      <td>0.218819</td>\n",
       "      <td>0.809910</td>\n",
       "    </tr>\n",
       "    <tr>\n",
       "      <th>47160</th>\n",
       "      <td>0.314105</td>\n",
       "      <td>0.888694</td>\n",
       "    </tr>\n",
       "    <tr>\n",
       "      <th>57051</th>\n",
       "      <td>0.576514</td>\n",
       "      <td>0.978970</td>\n",
       "    </tr>\n",
       "    <tr>\n",
       "      <th>7325</th>\n",
       "      <td>0.351212</td>\n",
       "      <td>0.913031</td>\n",
       "    </tr>\n",
       "    <tr>\n",
       "      <th>42939</th>\n",
       "      <td>1.203181</td>\n",
       "      <td>1.181399</td>\n",
       "    </tr>\n",
       "  </tbody>\n",
       "</table>\n",
       "<p>59054 rows × 2 columns</p>\n",
       "</div>"
      ],
      "text/plain": [
       "       amount_mean_card6  log_amount_mean_card6\n",
       "92687           0.532381               1.003691\n",
       "87748           0.467158               0.929926\n",
       "92913           0.510887               0.950790\n",
       "56197           0.471141               0.931905\n",
       "30043           0.220608               0.811684\n",
       "...                  ...                    ...\n",
       "52656           0.218819               0.809910\n",
       "47160           0.314105               0.888694\n",
       "57051           0.576514               0.978970\n",
       "7325            0.351212               0.913031\n",
       "42939           1.203181               1.181399\n",
       "\n",
       "[59054 rows x 2 columns]"
      ]
     },
     "execution_count": 41,
     "metadata": {},
     "output_type": "execute_result"
    }
   ],
   "source": [
    "train[['amount_mean_card6', 'log_amount_mean_card6']]"
   ]
  },
  {
   "cell_type": "code",
   "execution_count": 44,
   "metadata": {},
   "outputs": [],
   "source": [
    "train['TransactionAmtCents'] = (train[amount] - np.floor(train[amount])).astype(np.float64).round(2)"
   ]
  },
  {
   "cell_type": "code",
   "execution_count": 46,
   "metadata": {},
   "outputs": [],
   "source": [
    "start_date = datetime.strptime('2022-01-01', '%Y-%m-%d')\n",
    "\n",
    "train['Date'] = train['TransactionDT'].apply(lambda dt: start_date + timedelta(seconds=dt))\n",
    "\n",
    "train['Weekday'] = train['Date'].dt.dayofweek\n",
    "train['Day'] = train['Date'].dt.day\n",
    "train['Hour'] = train['Date'].dt.hour\n",
    "\n",
    "train = train.drop(columns=['Date'])"
   ]
  },
  {
   "cell_type": "code",
   "execution_count": 47,
   "metadata": {},
   "outputs": [
    {
     "data": {
      "text/html": [
       "<div>\n",
       "<style scoped>\n",
       "    .dataframe tbody tr th:only-of-type {\n",
       "        vertical-align: middle;\n",
       "    }\n",
       "\n",
       "    .dataframe tbody tr th {\n",
       "        vertical-align: top;\n",
       "    }\n",
       "\n",
       "    .dataframe thead th {\n",
       "        text-align: right;\n",
       "    }\n",
       "</style>\n",
       "<table border=\"1\" class=\"dataframe\">\n",
       "  <thead>\n",
       "    <tr style=\"text-align: right;\">\n",
       "      <th></th>\n",
       "      <th>TransactionDT</th>\n",
       "      <th>Weekday</th>\n",
       "      <th>Day</th>\n",
       "      <th>Hour</th>\n",
       "    </tr>\n",
       "  </thead>\n",
       "  <tbody>\n",
       "    <tr>\n",
       "      <th>97325</th>\n",
       "      <td>1976949</td>\n",
       "      <td>6</td>\n",
       "      <td>23</td>\n",
       "      <td>21</td>\n",
       "    </tr>\n",
       "    <tr>\n",
       "      <th>61328</th>\n",
       "      <td>8965914</td>\n",
       "      <td>3</td>\n",
       "      <td>14</td>\n",
       "      <td>18</td>\n",
       "    </tr>\n",
       "    <tr>\n",
       "      <th>99443</th>\n",
       "      <td>1996002</td>\n",
       "      <td>0</td>\n",
       "      <td>24</td>\n",
       "      <td>2</td>\n",
       "    </tr>\n",
       "    <tr>\n",
       "      <th>81872</th>\n",
       "      <td>9567790</td>\n",
       "      <td>3</td>\n",
       "      <td>21</td>\n",
       "      <td>17</td>\n",
       "    </tr>\n",
       "    <tr>\n",
       "      <th>39775</th>\n",
       "      <td>14234703</td>\n",
       "      <td>1</td>\n",
       "      <td>14</td>\n",
       "      <td>18</td>\n",
       "    </tr>\n",
       "  </tbody>\n",
       "</table>\n",
       "</div>"
      ],
      "text/plain": [
       "       TransactionDT  Weekday  Day  Hour\n",
       "97325        1976949        6   23    21\n",
       "61328        8965914        3   14    18\n",
       "99443        1996002        0   24     2\n",
       "81872        9567790        3   21    17\n",
       "39775       14234703        1   14    18"
      ]
     },
     "execution_count": 47,
     "metadata": {},
     "output_type": "execute_result"
    }
   ],
   "source": [
    "train[['TransactionDT', 'Weekday', 'Day', 'Hour']].sample(5)"
   ]
  },
  {
   "cell_type": "code",
   "execution_count": 48,
   "metadata": {},
   "outputs": [
    {
     "data": {
      "text/plain": [
       "(59054, 464)"
      ]
     },
     "execution_count": 48,
     "metadata": {},
     "output_type": "execute_result"
    }
   ],
   "source": [
    "train.shape"
   ]
  },
  {
   "cell_type": "markdown",
   "metadata": {},
   "source": [
    "O conjunto de dados final para treinamento do modelo possui 463 features (desconsiderando a variável target), entre as quais 29 foram criadas durante o processo de criação de features (*feature engineering*). Também devemos considerar que, ao realizar a análise de componentes principais, identificamos que 339 features podem ser representadas por aproximadament 90 componenetes principais, mantendo 95% da variância do conjunto de features original.\n",
    "\n",
    "Portanto, mesmo com a redução significativa de dimensionalidade, nosso modelo ainda deve analisar cerca de 214 features, buscando encontrar padrões que ajudem a prever a ocorrência de fraudes."
   ]
  },
  {
   "cell_type": "markdown",
   "metadata": {},
   "source": [
    "### Pré-processamento"
   ]
  },
  {
   "cell_type": "markdown",
   "metadata": {},
   "source": [
    "Apesar da maior parte das features ser númerica, algumas delas representar na verdade variáveis categóricas. Essa informação, de quais são as variáveis categóricas, foi disponibilizada pelos organizadores da competição no Kaggle. Assim, mesmo sem os rótulos de algumas delas (M1-M9), por questão de proteção de dados reais, ainda é possível ter a informação e tratar essas variáveis adequadamente, durante o pré-processamento."
   ]
  },
  {
   "cell_type": "markdown",
   "metadata": {},
   "source": [
    "Categorical Features (Transaction)\n",
    "\n",
    "- ProductCD\n",
    "- emaildomain\n",
    "- card1 - card6\n",
    "- addr1, addr2\n",
    "- P_emaildomain\n",
    "- R_emaildomain\n",
    "- M1 - M9\n",
    "\n",
    "Categorical Features (Identity)\n",
    "\n",
    "- DeviceType\n",
    "- DeviceInfo\n",
    "- id_12 - id_38\n",
    "\n",
    "Categorical Created Features\n",
    "\n",
    "- hasIdentity\n",
    "- Weekday\n",
    "- Day\n",
    "- Hour"
   ]
  },
  {
   "cell_type": "code",
   "execution_count": 49,
   "metadata": {},
   "outputs": [],
   "source": [
    "CAT_FEATURES = [\n",
    "    *[f'card{i}' for i in range(1, 7)],\n",
    "    *[f'M{i}' for i in range(1, 10)],\n",
    "    *[f'id_{i}' for i in range(12, 39)],\n",
    "    \"ProductCD\",\n",
    "    \"addr1\", \n",
    "    \"addr2\",\n",
    "    \"P_emaildomain\",\n",
    "    \"R_emaildomain\",\n",
    "    \"DeviceType\",\n",
    "    \"DeviceInfo\",\n",
    "    \"hasIdentity\",\n",
    "    \"Weekday\",\n",
    "    \"Day\",\n",
    "    \"Hour\",\n",
    "]"
   ]
  },
  {
   "cell_type": "code",
   "execution_count": 50,
   "metadata": {},
   "outputs": [
    {
     "name": "stdout",
     "output_type": "stream",
     "text": [
      "(41337, 463)\n",
      "(41337,)\n"
     ]
    }
   ],
   "source": [
    "X = train.drop(columns=['isFraud'])\n",
    "y = train['isFraud']\n",
    "\n",
    "X_train, X_test, y_train, y_test = train_test_split(X, y, test_size=0.3, stratify=y, random_state=23)\n",
    "\n",
    "print(X_train.shape)\n",
    "print(y_train.shape)"
   ]
  },
  {
   "cell_type": "code",
   "execution_count": 51,
   "metadata": {},
   "outputs": [],
   "source": [
    "X_train = X_train.replace([np.inf, -np.inf], -999)\n",
    "X_test = X_test.replace([np.inf, -np.inf], -999)"
   ]
  },
  {
   "cell_type": "code",
   "execution_count": 52,
   "metadata": {},
   "outputs": [
    {
     "name": "stdout",
     "output_type": "stream",
     "text": [
      "463\n"
     ]
    }
   ],
   "source": [
    "pca_features = X_train.columns[X_train.columns.str.startswith('V')]\n",
    "cat_features = np.unique(CAT_FEATURES + X_train.select_dtypes(include=['object']).columns.tolist())\n",
    "num_features = [col for col in X_train.columns if col not in cat_features and col not in pca_features]\n",
    "\n",
    "print(np.sum(list(map(len, [pca_features, cat_features, num_features]))))"
   ]
  },
  {
   "cell_type": "markdown",
   "metadata": {},
   "source": [
    "Após separar as variáveis numéricas, categóricas, e as que serão usadas no PCA transformer (V1-V339), vamos a abordagem de `Pipeline` do Scikit-Learn para definir as transformações que vamos realizar.\n",
    "\n",
    "As variavéis categóricas serão, primeiramente, transformadas em *string*, depois será feita a imputação de dados faltantes, usando a abordagem de mais frequente, ou seja, substitui os NaNs pela categoria mais frequente. Por fim, esses dados serão transformados em inteiros, usando o codificador `OrdinalEncoder`. Quando o modelo se deparar com uma categoria desconhecida, que não estava presente nos dados de treino, essa valor será codificado como -1.\n",
    "\n",
    "Para as variáveis categórias usaremos uma abordagem de tratamento de valores faltantes similar, substituindo NaNs pela média. Após imputar os dados, usaremos o `StandarScaler` para uniformizar a distribuição dos dados.\n",
    "\n",
    "As variáves V1 até V339, que foram submetidas à análise de componentes principais, vão passar pelo mesmo processo das features numéricas. Ao final do processo da padronização das escalas, será aplicada a redução de dimensionalidade, através da criação dos componentes principais."
   ]
  },
  {
   "cell_type": "code",
   "execution_count": null,
   "metadata": {},
   "outputs": [],
   "source": [
    "categorical_transformer = Pipeline(steps=[\n",
    "    ('to_string', FunctionTransformer(lambda X: X.astype(str))),\n",
    "    ('imputer', SimpleImputer(strategy='most_frequent')),\n",
    "    ('encoder', OrdinalEncoder(handle_unknown='use_encoded_value', unknown_value=-1))\n",
    "])\n",
    "\n",
    "numeric_transformer = Pipeline(steps=[\n",
    "    ('imputer', SimpleImputer(strategy='mean')),\n",
    "    ('scaler', StandardScaler())\n",
    "])\n",
    "\n",
    "pca_transformer = Pipeline(steps=[\n",
    "    ('imputer', SimpleImputer(strategy='mean')),\n",
    "    ('scaler', StandardScaler()),\n",
    "    ('pca', PCA(n_components=d))\n",
    "])\n",
    "\n",
    "preprocessor = ColumnTransformer(\n",
    "    transformers=[\n",
    "        ('cat', categorical_transformer, cat_features),\n",
    "        ('num', numeric_transformer, num_features),\n",
    "        ('pca', pca_transformer, pca_features)\n",
    "    ],\n",
    "    remainder='passthrough'\n",
    ")"
   ]
  },
  {
   "cell_type": "code",
   "execution_count": 54,
   "metadata": {},
   "outputs": [],
   "source": [
    "X_train_transformed = preprocessor.fit_transform(X_train)\n",
    "X_test_transformed = preprocessor.transform(X_test)"
   ]
  },
  {
   "cell_type": "code",
   "execution_count": 87,
   "metadata": {},
   "outputs": [
    {
     "name": "stdout",
     "output_type": "stream",
     "text": [
      "(41337, 214)\n",
      "(17717, 214)\n"
     ]
    }
   ],
   "source": [
    "print(X_train_transformed.shape)\n",
    "print(X_test_transformed.shape)"
   ]
  },
  {
   "cell_type": "code",
   "execution_count": 55,
   "metadata": {},
   "outputs": [],
   "source": [
    "del X_train, X_test"
   ]
  },
  {
   "cell_type": "markdown",
   "metadata": {},
   "source": [
    "### Seleção de modelos"
   ]
  },
  {
   "cell_type": "code",
   "execution_count": 56,
   "metadata": {},
   "outputs": [
    {
     "data": {
      "text/plain": [
       "(17717,)"
      ]
     },
     "execution_count": 56,
     "metadata": {},
     "output_type": "execute_result"
    }
   ],
   "source": [
    "decision_tree = DecisionTreeClassifier(random_state=42)\n",
    "decision_tree.fit(X_train_transformed, y_train)\n",
    "\n",
    "y_pred = decision_tree.predict(X_test_transformed)\n",
    "y_pred.shape"
   ]
  },
  {
   "cell_type": "code",
   "execution_count": 57,
   "metadata": {},
   "outputs": [
    {
     "name": "stdout",
     "output_type": "stream",
     "text": [
      "Train score: 1.0\n",
      "Test score: 0.9460969690128126\n"
     ]
    }
   ],
   "source": [
    "train_score = decision_tree.score(X_train_transformed, y_train)\n",
    "test_score = decision_tree.score(X_test_transformed, y_test)\n",
    "\n",
    "print(\"Train score: {}\".format(train_score))\n",
    "print(\"Test score: {}\".format(test_score))"
   ]
  },
  {
   "cell_type": "code",
   "execution_count": 58,
   "metadata": {},
   "outputs": [
    {
     "data": {
      "text/plain": [
       "array([[16520,   577],\n",
       "       [  378,   242]])"
      ]
     },
     "execution_count": 58,
     "metadata": {},
     "output_type": "execute_result"
    }
   ],
   "source": [
    "confusion_matrix(y_test, y_pred)"
   ]
  },
  {
   "cell_type": "code",
   "execution_count": 59,
   "metadata": {},
   "outputs": [
    {
     "name": "stdout",
     "output_type": "stream",
     "text": [
      "ROC AUC: 0.6782869848888788\n",
      "Precision: 0.2954822954822955\n",
      "Recall: 0.3903225806451613\n",
      "F1 Score: 0.33634468380820015\n"
     ]
    }
   ],
   "source": [
    "print(f'ROC AUC: {roc_auc_score(y_test, y_pred)}')\n",
    "print(f'Precision: {precision_score(y_test, y_pred)}')\n",
    "print(f'Recall: {recall_score(y_test, y_pred)}')\n",
    "print(f'F1 Score: {f1_score(y_test, y_pred)}')"
   ]
  },
  {
   "cell_type": "code",
   "execution_count": 71,
   "metadata": {},
   "outputs": [
    {
     "name": "stdout",
     "output_type": "stream",
     "text": [
      "LGBM: 0.8938485249599065 (0.010236426835662445)\n",
      "RF: 0.8707705701322161 (0.017985782932042622)\n",
      "BC: 0.7994909193050889 (0.017896407547398185)\n",
      "DT: 0.667541772863737 (0.02226332630831636)\n"
     ]
    }
   ],
   "source": [
    "results = {}\n",
    "\n",
    "k_folds = 10\n",
    "cv = StratifiedKFold(n_splits=k_folds, shuffle=True)\n",
    "\n",
    "models = {\n",
    "    'LGBM': LGBMClassifier(verbose=-1, random_state=23),\n",
    "    'RF': RandomForestClassifier(random_state=23),\n",
    "    'BC': BaggingClassifier(random_state=23),\n",
    "    'DT': DecisionTreeClassifier(random_state=23),\n",
    "}\n",
    "\n",
    "for name, model in models.items():\n",
    "    scores = cross_val_score(model, X_train_transformed, y_train, cv=cv, scoring='roc_auc')\n",
    "    results[name] = scores\n",
    "\n",
    "    print(f'{name}: {scores.mean()} ({scores.std()})')"
   ]
  },
  {
   "cell_type": "code",
   "execution_count": null,
   "metadata": {},
   "outputs": [
    {
     "data": {
      "image/png": "[encoded data removed]",
      "text/plain": [
       "<Figure size 640x480 with 1 Axes>"
      ]
     },
     "metadata": {},
     "output_type": "display_data"
    }
   ],
   "source": [
    "fig = plt.figure()\n",
    "fig.suptitle('ROC AUC')\n",
    "\n",
    "ax = fig.add_subplot(111)\n",
    "plt.boxplot(results.values())\n",
    "\n",
    "ax.set_xticks(range(1, len(results.keys()) + 1))\n",
    "ax.set_xticklabels(results.keys(), rotation=45)\n",
    "\n",
    "plt.show()"
   ]
  },
  {
   "cell_type": "code",
   "execution_count": null,
   "metadata": {},
   "outputs": [
    {
     "name": "stdout",
     "output_type": "stream",
     "text": [
      "UNDER_RF: 0.868443321442727 (0.025817542915213883)\n"
     ]
    }
   ],
   "source": [
    "undersampler = RandomUnderSampler(sampling_strategy='majority', random_state=42)\n",
    "\n",
    "X_train_res, y_train_res = undersampler.fit_resample(X_train_transformed, y_train)\n",
    "\n",
    "scores = cross_val_score(RandomForestClassifier(random_state=23), X_train_res, y_train_res, cv=cv, scoring='roc_auc')\n",
    "print(f'UNDER_RF: {scores.mean()} ({scores.std()})')\n",
    "\n",
    "results['UNDER_RF'] = scores"
   ]
  },
  {
   "cell_type": "code",
   "execution_count": null,
   "metadata": {},
   "outputs": [
    {
     "name": "stdout",
     "output_type": "stream",
     "text": [
      "RUSB: 0.785819965610141 (0.09398456107895155)\n"
     ]
    }
   ],
   "source": [
    "rus_boost = RUSBoostClassifier(random_state=23)\n",
    "\n",
    "scores = cross_val_score(rus_boost, X_train_transformed, y_train, cv=cv, scoring='roc_auc')\n",
    "print(f'RUSB: {scores.mean()} ({scores.std()})')\n",
    "\n",
    "results['RUSB'] = scores"
   ]
  },
  {
   "cell_type": "code",
   "execution_count": 76,
   "metadata": {},
   "outputs": [
    {
     "name": "stdout",
     "output_type": "stream",
     "text": [
      "SMOTE_LGBM: 0.9971044435064174 (0.0005655883006236095)\n"
     ]
    }
   ],
   "source": [
    "smote = SMOTE(random_state=42)\n",
    "\n",
    "X_train_res, y_train_res = smote.fit_resample(X_train_transformed, y_train)\n",
    "\n",
    "scores = cross_val_score(LGBMClassifier(random_state=23, verbose=-1), X_train_res, y_train_res, cv=cv, scoring='roc_auc')\n",
    "print(f'SMOTE_LGBM: {scores.mean()} ({scores.std()})')\n",
    "\n",
    "results['SMOTE_LGBM'] = scores"
   ]
  },
  {
   "cell_type": "code",
   "execution_count": 87,
   "metadata": {},
   "outputs": [
    {
     "data": {
      "image/png": "[encoded data removed]",
      "text/plain": [
       "<Figure size 640x480 with 1 Axes>"
      ]
     },
     "metadata": {},
     "output_type": "display_data"
    }
   ],
   "source": [
    "sorted_results = dict(sorted(results.items(), key=lambda x: np.median(x[1]), reverse=True))\n",
    "\n",
    "fig = plt.figure()\n",
    "fig.suptitle('ROC AUC')\n",
    "\n",
    "ax = fig.add_subplot(111)\n",
    "plt.boxplot(sorted_results.values())\n",
    "\n",
    "ax.set_xticks(range(1, len(sorted_results.keys()) + 1))\n",
    "ax.set_xticklabels(sorted_results.keys(), rotation=45)\n",
    "\n",
    "plt.show()"
   ]
  },
  {
   "cell_type": "markdown",
   "metadata": {},
   "source": [
    "### Treinamento"
   ]
  },
  {
   "cell_type": "markdown",
   "metadata": {},
   "source": [
    "#### Under Bagging"
   ]
  },
  {
   "cell_type": "code",
   "execution_count": null,
   "metadata": {},
   "outputs": [],
   "source": [
    "clf = RandomForestClassifier(random_state=23)\n",
    "undersampler = RandomUnderSampler(sampling_strategy='majority', random_state=23)\n",
    "\n",
    "X_train_res, y_train_res = undersampler.fit_resample(X_train_transformed, y_train)\n",
    "\n",
    "clf.fit(X_train_res, y_train_res)\n",
    "\n",
    "y_pred = clf.predict(X_test_transformed)"
   ]
  },
  {
   "cell_type": "code",
   "execution_count": 90,
   "metadata": {},
   "outputs": [
    {
     "data": {
      "text/plain": [
       "array([[13330,  3767],\n",
       "       [  131,   489]])"
      ]
     },
     "execution_count": 90,
     "metadata": {},
     "output_type": "execute_result"
    }
   ],
   "source": [
    "confusion_matrix(y_test, y_pred)"
   ]
  },
  {
   "cell_type": "code",
   "execution_count": 91,
   "metadata": {},
   "outputs": [
    {
     "name": "stdout",
     "output_type": "stream",
     "text": [
      "ROC AUC: 0.7841893125939845\n",
      "Precision: 0.11489661654135339\n",
      "Recall: 0.7887096774193548\n",
      "F1 Score: 0.20057424118129613\n"
     ]
    }
   ],
   "source": [
    "print(f'ROC AUC: {roc_auc_score(y_test, y_pred)}')\n",
    "print(f'Precision: {precision_score(y_test, y_pred)}')\n",
    "print(f'Recall: {recall_score(y_test, y_pred)}')\n",
    "print(f'F1 Score: {f1_score(y_test, y_pred)}')"
   ]
  },
  {
   "cell_type": "markdown",
   "metadata": {},
   "source": [
    "#### SMOTE Bagging"
   ]
  },
  {
   "cell_type": "code",
   "execution_count": 92,
   "metadata": {},
   "outputs": [],
   "source": [
    "clf = RandomForestClassifier(random_state=23)\n",
    "smote = SMOTE(sampling_strategy='minority', random_state=23)\n",
    "\n",
    "X_train_res, y_train_res = smote.fit_resample(X_train_transformed, y_train)\n",
    "\n",
    "clf.fit(X_train_res, y_train_res)\n",
    "\n",
    "y_pred = clf.predict(X_test_transformed)"
   ]
  },
  {
   "cell_type": "code",
   "execution_count": 93,
   "metadata": {},
   "outputs": [
    {
     "data": {
      "text/plain": [
       "array([[17021,    76],\n",
       "       [  369,   251]])"
      ]
     },
     "execution_count": 93,
     "metadata": {},
     "output_type": "execute_result"
    }
   ],
   "source": [
    "confusion_matrix(y_test, y_pred)"
   ]
  },
  {
   "cell_type": "code",
   "execution_count": 94,
   "metadata": {},
   "outputs": [
    {
     "name": "stdout",
     "output_type": "stream",
     "text": [
      "ROC AUC: 0.7001967426845306\n",
      "Precision: 0.7675840978593272\n",
      "Recall: 0.40483870967741936\n",
      "F1 Score: 0.5300950369588173\n"
     ]
    }
   ],
   "source": [
    "print(f'ROC AUC: {roc_auc_score(y_test, y_pred)}')\n",
    "print(f'Precision: {precision_score(y_test, y_pred)}')\n",
    "print(f'Recall: {recall_score(y_test, y_pred)}')\n",
    "print(f'F1 Score: {f1_score(y_test, y_pred)}')"
   ]
  },
  {
   "cell_type": "markdown",
   "metadata": {},
   "source": [
    "#### Adjusted Weights Random Forest"
   ]
  },
  {
   "cell_type": "code",
   "execution_count": 95,
   "metadata": {},
   "outputs": [],
   "source": [
    "clf = RandomForestClassifier(class_weight='balanced', random_state=23)\n",
    "clf.fit(X_train_transformed, y_train)\n",
    "\n",
    "y_pred = clf.predict(X_test_transformed)"
   ]
  },
  {
   "cell_type": "code",
   "execution_count": 96,
   "metadata": {},
   "outputs": [
    {
     "data": {
      "text/plain": [
       "array([[17087,    10],\n",
       "       [  506,   114]])"
      ]
     },
     "execution_count": 96,
     "metadata": {},
     "output_type": "execute_result"
    }
   ],
   "source": [
    "confusion_matrix(y_test, y_pred)"
   ]
  },
  {
   "cell_type": "code",
   "execution_count": 97,
   "metadata": {},
   "outputs": [
    {
     "name": "stdout",
     "output_type": "stream",
     "text": [
      "ROC AUC: 0.5916430349033126\n",
      "Precision: 0.9193548387096774\n",
      "Recall: 0.18387096774193548\n",
      "F1 Score: 0.3064516129032258\n"
     ]
    }
   ],
   "source": [
    "print(f'ROC AUC: {roc_auc_score(y_test, y_pred)}')\n",
    "print(f'Precision: {precision_score(y_test, y_pred)}')\n",
    "print(f'Recall: {recall_score(y_test, y_pred)}')\n",
    "print(f'F1 Score: {f1_score(y_test, y_pred)}')"
   ]
  },
  {
   "cell_type": "markdown",
   "metadata": {},
   "source": [
    "#### Precision/Recall Trade-off"
   ]
  },
  {
   "cell_type": "code",
   "execution_count": 75,
   "metadata": {},
   "outputs": [
    {
     "name": "stdout",
     "output_type": "stream",
     "text": [
      "Done: Ratio=majority, Class Weight=balanced, Avg Precision=0.4191\n",
      "Done: Ratio=majority, Class Weight=balanced_subsample, Avg Precision=0.4121\n",
      "Done: Ratio=majority, Class Weight={0: 1, 1: 2}, Avg Precision=0.4041\n",
      "Done: Ratio=majority, Class Weight={0: 1, 1: 10}, Avg Precision=0.3588\n",
      "Done: Ratio=0.5, Class Weight=balanced, Avg Precision=0.4526\n",
      "Done: Ratio=0.5, Class Weight=balanced_subsample, Avg Precision=0.4554\n",
      "Done: Ratio=0.5, Class Weight={0: 1, 1: 2}, Avg Precision=0.4512\n",
      "Done: Ratio=0.5, Class Weight={0: 1, 1: 10}, Avg Precision=0.4239\n",
      "Done: Ratio=0.33, Class Weight=balanced, Avg Precision=0.4582\n",
      "Done: Ratio=0.33, Class Weight=balanced_subsample, Avg Precision=0.4643\n",
      "Done: Ratio=0.33, Class Weight={0: 1, 1: 2}, Avg Precision=0.4603\n",
      "Done: Ratio=0.33, Class Weight={0: 1, 1: 10}, Avg Precision=0.4415\n",
      "Done: Ratio=0.2, Class Weight=balanced, Avg Precision=0.4654\n",
      "Done: Ratio=0.2, Class Weight=balanced_subsample, Avg Precision=0.4696\n",
      "Done: Ratio=0.2, Class Weight={0: 1, 1: 2}, Avg Precision=0.4752\n",
      "Done: Ratio=0.2, Class Weight={0: 1, 1: 10}, Avg Precision=0.4550\n",
      "Done: Ratio=0.1, Class Weight=balanced, Avg Precision=0.4767\n",
      "Done: Ratio=0.1, Class Weight=balanced_subsample, Avg Precision=0.4786\n",
      "Done: Ratio=0.1, Class Weight={0: 1, 1: 2}, Avg Precision=0.4802\n",
      "Done: Ratio=0.1, Class Weight={0: 1, 1: 10}, Avg Precision=0.4806\n"
     ]
    }
   ],
   "source": [
    "results = []\n",
    "ratios = ['majority', 0.5, 0.33, 0.2, 0.1]  # 2:1, 3:1, 5:1, 10:1\n",
    "class_weights = ['balanced', 'balanced_subsample', {0: 1, 1: 2}, {0: 1, 1: 10}]\n",
    "\n",
    "for r in ratios:\n",
    "    for cw in class_weights:\n",
    "        undersampler = RandomUnderSampler(sampling_strategy=r, random_state=23)\n",
    "        X_train_res, y_train_res = undersampler.fit_resample(X_train_transformed, y_train)\n",
    "\n",
    "        clf = RandomForestClassifier(class_weight=cw, n_estimators=100, n_jobs=10, random_state=23)\n",
    "        clf.fit(X_train_res, y_train_res)\n",
    "\n",
    "        y_pred_proba = clf.predict_proba(X_test_transformed)[:, 1]\n",
    "        precision, recall, thresholds = precision_recall_curve(y_test, y_pred_proba)\n",
    "        avg_precision = average_precision_score(y_test, y_pred_proba)\n",
    "\n",
    "        results.append({\n",
    "                        'undersampling_ratio': r,\n",
    "                        'class_weight': cw,\n",
    "                        'precision': precision,\n",
    "                        'recall': recall,\n",
    "                        'thresholds': thresholds,\n",
    "                        'average_precision': avg_precision\n",
    "                    })\n",
    "        \n",
    "        print(f\"Done: Ratio={r}, Class Weight={cw}, Avg Precision={avg_precision:.4f}\")"
   ]
  },
  {
   "cell_type": "code",
   "execution_count": 76,
   "metadata": {},
   "outputs": [
    {
     "data": {
      "image/png": "[encoded data removed]",
      "text/plain": [
       "<Figure size 1000x600 with 1 Axes>"
      ]
     },
     "metadata": {},
     "output_type": "display_data"
    }
   ],
   "source": [
    "plt.figure(figsize=(10, 6))\n",
    "\n",
    "for result in results:\n",
    "    ratio = result['undersampling_ratio']\n",
    "    weight = result['class_weight']\n",
    "    precision = result['precision']\n",
    "    recall = result['recall']\n",
    "    label = f\"Ratio={ratio}, Weight={weight}, AP={result['average_precision']:.2f}\"\n",
    "    plt.plot(recall, precision, label=label)\n",
    "\n",
    "plt.xlabel('Recall')\n",
    "plt.ylabel('Precision')\n",
    "\n",
    "plt.grid(True, linestyle='--', alpha=0.6)\n",
    "plt.show()"
   ]
  },
  {
   "cell_type": "code",
   "execution_count": 77,
   "metadata": {},
   "outputs": [
    {
     "name": "stdout",
     "output_type": "stream",
     "text": [
      "Done: Ratio=majority, Class Weight=balanced, Precision=0.1194, Recall=0.8016, F1=0.2079, ROC AUC=0.7937\n",
      "Done: Ratio=majority, Class Weight=balanced_subsample, Precision=0.1176, Recall=0.7919, F1=0.2048, ROC AUC=0.7882\n",
      "Done: Ratio=majority, Class Weight={0: 1, 1: 2}, Precision=0.1302, Recall=0.7565, F1=0.2222, ROC AUC=0.7866\n",
      "Done: Ratio=majority, Class Weight={0: 1, 1: 10}, Precision=0.1461, Recall=0.6887, F1=0.2410, ROC AUC=0.7714\n",
      "Done: Ratio=0.5, Class Weight=balanced, Precision=0.2629, Recall=0.5935, F1=0.3644, ROC AUC=0.7666\n",
      "Done: Ratio=0.5, Class Weight=balanced_subsample, Precision=0.2737, Recall=0.5952, F1=0.3750, ROC AUC=0.7689\n",
      "Done: Ratio=0.5, Class Weight={0: 1, 1: 2}, Precision=0.2710, Recall=0.5984, F1=0.3731, ROC AUC=0.7700\n",
      "Done: Ratio=0.5, Class Weight={0: 1, 1: 10}, Precision=0.3148, Recall=0.5290, F1=0.3947, ROC AUC=0.7436\n",
      "Done: Ratio=0.33, Class Weight=balanced, Precision=0.4455, Recall=0.4742, F1=0.4594, ROC AUC=0.7264\n",
      "Done: Ratio=0.33, Class Weight=balanced_subsample, Precision=0.4374, Recall=0.4790, F1=0.4573, ROC AUC=0.7283\n",
      "Done: Ratio=0.33, Class Weight={0: 1, 1: 2}, Precision=0.4158, Recall=0.5016, F1=0.4547, ROC AUC=0.7380\n",
      "Done: Ratio=0.33, Class Weight={0: 1, 1: 10}, Precision=0.4838, Recall=0.4323, F1=0.4566, ROC AUC=0.7078\n",
      "Done: Ratio=0.2, Class Weight=balanced, Precision=0.6193, Recall=0.3726, F1=0.4653, ROC AUC=0.6821\n",
      "Done: Ratio=0.2, Class Weight=balanced_subsample, Precision=0.6567, Recall=0.3887, F1=0.4883, ROC AUC=0.6907\n",
      "Done: Ratio=0.2, Class Weight={0: 1, 1: 2}, Precision=0.5893, Recall=0.4097, F1=0.4833, ROC AUC=0.6997\n",
      "Done: Ratio=0.2, Class Weight={0: 1, 1: 10}, Precision=0.6143, Recall=0.3468, F1=0.4433, ROC AUC=0.6694\n",
      "Done: Ratio=0.1, Class Weight=balanced, Precision=0.7911, Recall=0.2871, F1=0.4213, ROC AUC=0.6422\n",
      "Done: Ratio=0.1, Class Weight=balanced_subsample, Precision=0.7911, Recall=0.2871, F1=0.4213, ROC AUC=0.6422\n",
      "Done: Ratio=0.1, Class Weight={0: 1, 1: 2}, Precision=0.7907, Recall=0.3290, F1=0.4647, ROC AUC=0.6629\n",
      "Done: Ratio=0.1, Class Weight={0: 1, 1: 10}, Precision=0.7838, Recall=0.2806, F1=0.4133, ROC AUC=0.6389\n"
     ]
    }
   ],
   "source": [
    "results = []\n",
    "\n",
    "for r in ratios:\n",
    "    for cw in class_weights:\n",
    "        undersampler = RandomUnderSampler(sampling_strategy=r, random_state=23)\n",
    "        X_train_res, y_train_res = undersampler.fit_resample(X_train_transformed, y_train)\n",
    "\n",
    "        clf = RandomForestClassifier(class_weight=cw, n_estimators=100, n_jobs=10, random_state=23)\n",
    "        clf.fit(X_train_res, y_train_res)\n",
    "\n",
    "        y_pred = clf.predict(X_test_transformed)\n",
    "\n",
    "        precision = precision_score(y_test, y_pred)\n",
    "        recall = recall_score(y_test, y_pred)\n",
    "        f1 = f1_score(y_test, y_pred)\n",
    "        roc_auc = roc_auc_score(y_test, y_pred)\n",
    "\n",
    "        results.append({\n",
    "            'undersampling_ratio': r,\n",
    "            'class_weight': cw,\n",
    "            'precision': precision,\n",
    "            'recall': recall,\n",
    "            'f1_score': f1,\n",
    "            'roc_auc': roc_auc\n",
    "        })\n",
    "\n",
    "        print(f\"Done: Ratio={r}, Class Weight={cw}, Precision={precision:.4f}, Recall={recall:.4f}, F1={f1:.4f}, ROC AUC={roc_auc:.4f}\")"
   ]
  },
  {
   "cell_type": "code",
   "execution_count": 79,
   "metadata": {},
   "outputs": [
    {
     "name": "stdout",
     "output_type": "stream",
     "text": [
      "Max Precision: Ratio=0.1, Class Weight=balanced\n",
      "Max Recall:    Ratio=majority, Class Weight=balanced\n",
      "Max F1 Score:  Ratio=0.2, Class Weight=balanced_subsample\n",
      "Max ROC AUC:   Ratio=majority, Class Weight=balanced\n"
     ]
    }
   ],
   "source": [
    "results_df = pd.DataFrame(results)\n",
    "\n",
    "max_precision_row = results_df.loc[results_df['precision'].idxmax()]\n",
    "max_recall_row = results_df.loc[results_df['recall'].idxmax()]\n",
    "max_f1_score_row = results_df.loc[results_df['f1_score'].idxmax()]\n",
    "max_roc_auc_row = results_df.loc[results_df['roc_auc'].idxmax()]\n",
    "\n",
    "print(f\"Max Precision: Ratio={max_precision_row['undersampling_ratio']}, Class Weight={max_precision_row['class_weight']}\")\n",
    "print(f\"Max Recall:    Ratio={max_recall_row['undersampling_ratio']}, Class Weight={max_recall_row['class_weight']}\")\n",
    "print(f\"Max F1 Score:  Ratio={max_f1_score_row['undersampling_ratio']}, Class Weight={max_f1_score_row['class_weight']}\")\n",
    "print(f\"Max ROC AUC:   Ratio={max_roc_auc_row['undersampling_ratio']}, Class Weight={max_roc_auc_row['class_weight']}\")"
   ]
  },
  {
   "cell_type": "markdown",
   "metadata": {},
   "source": [
    "#### GridSearch"
   ]
  },
  {
   "cell_type": "code",
   "execution_count": null,
   "metadata": {},
   "outputs": [],
   "source": [
    "k_folds = 5\n",
    "ratio = 0.2\n",
    "weight = 'balanced_subsample'\n",
    "\n",
    "param_grid = {\n",
    "    'n_estimators': [100],\n",
    "    'min_samples_split': [2, 5, 10],\n",
    "    'max_depth': [None, 15, 30, 60],\n",
    "    'max_features': [None, 'sqrt', 0.5],\n",
    "}\n",
    "\n",
    "cv = StratifiedKFold(n_splits=k_folds, shuffle=True)\n",
    "\n",
    "undersampler = RandomUnderSampler(sampling_strategy=ratio, random_state=23)\n",
    "clf = RandomForestClassifier(class_weight=weight, random_state=23)"
   ]
  },
  {
   "cell_type": "code",
   "execution_count": 85,
   "metadata": {},
   "outputs": [],
   "source": [
    "X_train_res, y_train_res = undersampler.fit_resample(X_train_transformed, y_train)"
   ]
  },
  {
   "cell_type": "code",
   "execution_count": 86,
   "metadata": {},
   "outputs": [
    {
     "name": "stdout",
     "output_type": "stream",
     "text": [
      "0.8633216705836805\n",
      "{'max_depth': 15, 'max_features': 0.5, 'min_samples_split': 10, 'n_estimators': 100}\n",
      "RandomForestClassifier(class_weight='balanced_subsample', max_depth=15,\n",
      "                       max_features=0.5, min_samples_split=10, random_state=23)\n"
     ]
    }
   ],
   "source": [
    "grid_search = GridSearchCV(clf, param_grid, cv=cv, scoring='roc_auc', n_jobs=10)\n",
    "grid_search.fit(X_train_res, y_train_res)\n",
    "\n",
    "print(grid_search.best_score_)\n",
    "print(grid_search.best_params_)\n",
    "print(grid_search.best_estimator_)"
   ]
  },
  {
   "cell_type": "markdown",
   "metadata": {},
   "source": [
    "#### Análise de threshold"
   ]
  },
  {
   "cell_type": "code",
   "execution_count": null,
   "metadata": {},
   "outputs": [
    {
     "data": {
      "text/plain": [
       "array([[0.93, 0.07],\n",
       "       [0.96, 0.04],\n",
       "       [0.76, 0.24],\n",
       "       ...,\n",
       "       [0.09, 0.91],\n",
       "       [0.06, 0.94],\n",
       "       [0.03, 0.97]])"
      ]
     },
     "execution_count": 100,
     "metadata": {},
     "output_type": "execute_result"
    }
   ],
   "source": [
    "y_scores = cross_val_predict(clf, X_train_res, y_train_res, cv=cv, method='predict_proba')\n",
    "\n",
    "y_scores"
   ]
  },
  {
   "cell_type": "code",
   "execution_count": 101,
   "metadata": {},
   "outputs": [
    {
     "data": {
      "image/png": "[encoded data removed]",
      "text/plain": [
       "<Figure size 640x480 with 1 Axes>"
      ]
     },
     "metadata": {},
     "output_type": "display_data"
    }
   ],
   "source": [
    "precision, recall, threshold = precision_recall_curve(y_train_res, y_scores[:, 1])\n",
    "\n",
    "plt.plot(threshold, precision[:-1], \"b--\", label=\"Precision\", linewidth=2)\n",
    "plt.plot(threshold, recall[:-1], \"g-\", label=\"Recall\", linewidth=2)\n",
    "\n",
    "plt.xlabel(\"Threshold\")\n",
    "plt.ylabel(\"Precision/Recall\")\n",
    "plt.legend(loc=\"lower left\")\n",
    "\n",
    "plt.show()"
   ]
  },
  {
   "cell_type": "code",
   "execution_count": 102,
   "metadata": {},
   "outputs": [
    {
     "name": "stdout",
     "output_type": "stream",
     "text": [
      "Target threshold to obtain 90% precision is 0.2\n",
      "Target threshold to obtain 90% precision is 0.88\n"
     ]
    }
   ],
   "source": [
    "print(f'Target threshold to obtain 90% precision is {threshold[np.argmax(precision >= 0.90)]}')\n",
    "print(f'Target threshold to obtain 90% precision is {threshold[np.argmin(recall >= 0.90)]}')"
   ]
  },
  {
   "cell_type": "code",
   "execution_count": 103,
   "metadata": {},
   "outputs": [
    {
     "data": {
      "text/plain": [
       "[<matplotlib.lines.Line2D at 0x7f1e79b85d50>]"
      ]
     },
     "execution_count": 103,
     "metadata": {},
     "output_type": "execute_result"
    },
    {
     "data": {
      "image/png": "[encoded data removed]",
      "text/plain": [
       "<Figure size 640x480 with 1 Axes>"
      ]
     },
     "metadata": {},
     "output_type": "display_data"
    }
   ],
   "source": [
    "plt.plot(recall, precision, linewidth=2, label=\"Precision/Recall curve\")"
   ]
  },
  {
   "cell_type": "code",
   "execution_count": 104,
   "metadata": {},
   "outputs": [],
   "source": [
    "target_threshold = 0.51\n",
    "\n",
    "clf = RandomForestClassifier(random_state=42)\n",
    "clf.fit(X_train_res, y_train_res)\n",
    "\n",
    "y_scores = clf.predict_proba(X_test_transformed)[:, 1]\n",
    "y_pred = (y_scores >= target_threshold).astype(int)"
   ]
  },
  {
   "cell_type": "code",
   "execution_count": 105,
   "metadata": {},
   "outputs": [
    {
     "name": "stdout",
     "output_type": "stream",
     "text": [
      "ROC AUC: 0.7001967426845306\n",
      "Precision: 0.7675840978593272\n",
      "Recall: 0.40483870967741936\n",
      "F1 Score: 0.5300950369588173\n"
     ]
    }
   ],
   "source": [
    "print(f'ROC AUC: {roc_auc_score(y_test, y_pred)}')\n",
    "print(f'Precision: {precision_score(y_test, y_pred)}')\n",
    "print(f'Recall: {recall_score(y_test, y_pred)}')\n",
    "print(f'F1 Score: {f1_score(y_test, y_pred)}')"
   ]
  }
 ],
 "metadata": {
  "kernelspec": {
   "display_name": "env",
   "language": "python",
   "name": "python3"
  },
  "language_info": {
   "codemirror_mode": {
    "name": "ipython",
    "version": 3
   },
   "file_extension": ".py",
   "mimetype": "text/x-python",
   "name": "python",
   "nbconvert_exporter": "python",
   "pygments_lexer": "ipython3",
   "version": "3.10.12"
  }
 },
 "nbformat": 4,
 "nbformat_minor": 2
}
